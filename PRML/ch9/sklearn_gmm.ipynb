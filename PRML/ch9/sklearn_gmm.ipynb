{
 "metadata": {
  "name": "",
  "signature": "sha256:14e59dbeb6cc445d1665d852177d90d9d30df1b0b523780cde32a4987e932e93"
 },
 "nbformat": 3,
 "nbformat_minor": 0,
 "worksheets": [
  {
   "cells": [
    {
     "cell_type": "markdown",
     "metadata": {},
     "source": [
      "# GMM Example\n",
      "http://scikit-learn.org/stable/modules/generated/sklearn.mixture.GMM.html"
     ]
    },
    {
     "cell_type": "code",
     "collapsed": false,
     "input": [
      "from sklearn import mixture"
     ],
     "language": "python",
     "metadata": {},
     "outputs": [],
     "prompt_number": 1
    },
    {
     "cell_type": "code",
     "collapsed": false,
     "input": [
      "np.random.seed(1)"
     ],
     "language": "python",
     "metadata": {},
     "outputs": [],
     "prompt_number": 2
    },
    {
     "cell_type": "code",
     "collapsed": false,
     "input": [
      "g = mixture.GMM(n_components=2)"
     ],
     "language": "python",
     "metadata": {},
     "outputs": [],
     "prompt_number": 3
    },
    {
     "cell_type": "code",
     "collapsed": false,
     "input": [
      "# \u5e73\u5747\u304c0\u3068\u5e73\u5747\u304c10\u306e\u6b63\u898f\u5206\u5e03\u306b\u5f93\u3046\u4e71\u6570\u3092\u751f\u6210\u3059\u308b\n",
      "obs = np.concatenate((np.random.randn(100, 1),\n",
      "                      10 + np.random.randn(300, 1)))"
     ],
     "language": "python",
     "metadata": {},
     "outputs": [],
     "prompt_number": 4
    },
    {
     "cell_type": "code",
     "collapsed": false,
     "input": [
      "# \u30c7\u30fc\u30bf\u306b\u30d5\u30a3\u30c3\u30c8\u3059\u308bGMM\u3092\u5b66\u7fd2\n",
      "g.fit(obs)"
     ],
     "language": "python",
     "metadata": {},
     "outputs": [
      {
       "metadata": {},
       "output_type": "pyout",
       "prompt_number": 5,
       "text": [
        "GMM(covariance_type='diag', init_params='wmc', min_covar=0.001,\n",
        "  n_components=2, n_init=1, n_iter=100, params='wmc', random_state=None,\n",
        "  thresh=0.01)"
       ]
      }
     ],
     "prompt_number": 5
    },
    {
     "cell_type": "code",
     "collapsed": false,
     "input": [
      "g.weights_"
     ],
     "language": "python",
     "metadata": {},
     "outputs": [
      {
       "metadata": {},
       "output_type": "pyout",
       "prompt_number": 6,
       "text": [
        "array([ 0.75,  0.25])"
       ]
      }
     ],
     "prompt_number": 6
    },
    {
     "cell_type": "code",
     "collapsed": false,
     "input": [
      "g.means_"
     ],
     "language": "python",
     "metadata": {},
     "outputs": [
      {
       "metadata": {},
       "output_type": "pyout",
       "prompt_number": 7,
       "text": [
        "array([[ 10.04741807],\n",
        "       [  0.06058285]])"
       ]
      }
     ],
     "prompt_number": 7
    },
    {
     "cell_type": "code",
     "collapsed": false,
     "input": [
      "g.covars_"
     ],
     "language": "python",
     "metadata": {},
     "outputs": [
      {
       "metadata": {},
       "output_type": "pyout",
       "prompt_number": 8,
       "text": [
        "array([[ 1.01053171],\n",
        "       [ 0.78450152]])"
       ]
      }
     ],
     "prompt_number": 8
    },
    {
     "cell_type": "code",
     "collapsed": false,
     "input": [
      "# \u30c6\u30b9\u30c8\u30c7\u30fc\u30bf\u3092\u4f5c\u6210\n",
      "# 1\u6b21\u5143\u30c7\u30fc\u30bf\u3067\u3082\u30b5\u30f3\u30d7\u30eb\u304c\u884c\u306b\u304f\u308b\u7e26\u30d9\u30af\u30c8\u30eb\u306b\u3059\u308b\u5fc5\u8981\u304c\u3042\u308b\n",
      "test = np.array([0, 2, 9, 10])[:, np.newaxis]\n",
      "test"
     ],
     "language": "python",
     "metadata": {},
     "outputs": [
      {
       "metadata": {},
       "output_type": "pyout",
       "prompt_number": 10,
       "text": [
        "array([[ 0],\n",
        "       [ 2],\n",
        "       [ 9],\n",
        "       [10]])"
       ]
      }
     ],
     "prompt_number": 10
    },
    {
     "cell_type": "code",
     "collapsed": false,
     "input": [
      "g.predict(test)"
     ],
     "language": "python",
     "metadata": {},
     "outputs": [
      {
       "metadata": {},
       "output_type": "pyout",
       "prompt_number": 11,
       "text": [
        "array([1, 1, 0, 0])"
       ]
      }
     ],
     "prompt_number": 11
    },
    {
     "cell_type": "code",
     "collapsed": false,
     "input": [
      "g.score(test)"
     ],
     "language": "python",
     "metadata": {},
     "outputs": [
      {
       "metadata": {},
       "output_type": "pyout",
       "prompt_number": 12,
       "text": [
        "array([-2.18621876, -4.58115903, -1.75468435, -1.21297144])"
       ]
      }
     ],
     "prompt_number": 12
    },
    {
     "cell_type": "markdown",
     "metadata": {},
     "source": [
      "# Densitiy Estimation for a mixture of Gaussians\n",
      "http://scikit-learn.org/stable/auto_examples/mixture/plot_gmm_pdf.html"
     ]
    },
    {
     "cell_type": "code",
     "collapsed": false,
     "input": [
      "from sklearn import mixture\n",
      "from matplotlib.colors import LogNorm"
     ],
     "language": "python",
     "metadata": {},
     "outputs": [],
     "prompt_number": 39
    },
    {
     "cell_type": "code",
     "collapsed": false,
     "input": [
      "n_samples = 300"
     ],
     "language": "python",
     "metadata": {},
     "outputs": [],
     "prompt_number": 14
    },
    {
     "cell_type": "code",
     "collapsed": false,
     "input": [
      "np.random.seed(0)"
     ],
     "language": "python",
     "metadata": {},
     "outputs": [],
     "prompt_number": 15
    },
    {
     "cell_type": "code",
     "collapsed": false,
     "input": [
      "# \u30c7\u30fc\u30bf\u751f\u6210\n",
      "shifted_gaussian = np.random.randn(n_samples, 2) + np.array([20, 20])\n",
      "\n",
      "C = np.array([[0, -0.7], [3.5, 0.7]])\n",
      "stretched_gaussian = np.dot(np.random.randn(n_samples, 2), C)"
     ],
     "language": "python",
     "metadata": {},
     "outputs": [],
     "prompt_number": 17
    },
    {
     "cell_type": "code",
     "collapsed": false,
     "input": [
      "# \u8a13\u7df4\u30c7\u30fc\u30bf\n",
      "X_train = np.vstack([shifted_gaussian, stretched_gaussian])\n",
      "X_train"
     ],
     "language": "python",
     "metadata": {},
     "outputs": [
      {
       "metadata": {},
       "output_type": "pyout",
       "prompt_number": 19,
       "text": [
        "array([[ 18.44957065,  20.41731882],\n",
        "       [ 19.05563151,  20.23810315],\n",
        "       [ 18.59403708,  19.40994235],\n",
        "       ..., \n",
        "       [ -1.94594761,   0.35104203],\n",
        "       [  0.64207589,   0.10969831],\n",
        "       [  0.95478736,   0.52047722]])"
       ]
      }
     ],
     "prompt_number": 19
    },
    {
     "cell_type": "code",
     "collapsed": false,
     "input": [
      "clf = mixture.GMM(n_components=2, covariance_type='full')\n",
      "clf.fit(X_train)"
     ],
     "language": "python",
     "metadata": {},
     "outputs": [
      {
       "metadata": {},
       "output_type": "pyout",
       "prompt_number": 26,
       "text": [
        "GMM(covariance_type='full', init_params='wmc', min_covar=0.001,\n",
        "  n_components=2, n_init=1, n_iter=100, params='wmc', random_state=None,\n",
        "  thresh=0.01)"
       ]
      }
     ],
     "prompt_number": 26
    },
    {
     "cell_type": "code",
     "collapsed": false,
     "input": [
      "x = np.linspace(-20.0, 30.0)\n",
      "y = np.linspace(-20.0, 40.0)\n",
      "X, Y = np.meshgrid(x, y)\n",
      "XX = np.array([X.ravel(), Y.ravel()]).T\n",
      "Z = -clf.score_samples(XX)[0]\n",
      "Z = Z.reshape(X.shape)"
     ],
     "language": "python",
     "metadata": {},
     "outputs": [],
     "prompt_number": 47
    },
    {
     "cell_type": "code",
     "collapsed": false,
     "input": [
      "CS = plt.contour(X, Y, Z, levels=np.logspace(0, 3, 10))\n",
      "plt.scatter(X_train[:, 0], X_train[:, 1], 0.8)"
     ],
     "language": "python",
     "metadata": {},
     "outputs": [
      {
       "metadata": {},
       "output_type": "pyout",
       "prompt_number": 52,
       "text": [
        "<matplotlib.collections.PathCollection at 0x73fd290>"
       ]
      },
      {
       "metadata": {},
       "output_type": "display_data",
       "png": "[encoded data removed]",
       "text": [
        "<matplotlib.figure.Figure at 0x7371930>"
       ]
      }
     ],
     "prompt_number": 52
    },
    {
     "cell_type": "markdown",
     "metadata": {},
     "source": [
      "# faithful.txt\u306e\u30c6\u30b9\u30c8\n",
      "http://aidiary.hatenablog.com/entry/20100521/1274445325"
     ]
    },
    {
     "cell_type": "code",
     "collapsed": false,
     "input": [
      "import numpy as np\n",
      "import matplotlib.pyplot as plt\n",
      "import matplotlib.mlab as mlab"
     ],
     "language": "python",
     "metadata": {},
     "outputs": [],
     "prompt_number": 100
    },
    {
     "cell_type": "code",
     "collapsed": false,
     "input": [
      "def scale(X):\n",
      "    \"\"\"\u30c7\u30fc\u30bf\u884c\u5217X\u3092\u5c5e\u6027\u3054\u3068\u306b\u6a19\u6e96\u5316\u3057\u305f\u30c7\u30fc\u30bf\u3092\u8fd4\u3059\"\"\"\n",
      "    # \u5c5e\u6027\u306e\u6570\uff08=\u5217\u306e\u6570\uff09\n",
      "    col = X.shape[1]\n",
      "    \n",
      "    # \u5c5e\u6027\u3054\u3068\u306b\u5e73\u5747\u5024\u3068\u6a19\u6e96\u504f\u5dee\u3092\u8a08\u7b97\n",
      "    mu = np.mean(X, axis=0)\n",
      "    sigma = np.std(X, axis=0)\n",
      "    \n",
      "    # \u5c5e\u6027\u3054\u3068\u30c7\u30fc\u30bf\u3092\u6a19\u6e96\u5316\n",
      "    for i in range(col):\n",
      "        X[:,i] = (X[:,i] - mu[i]) / sigma[i]\n",
      "    \n",
      "    return X"
     ],
     "language": "python",
     "metadata": {},
     "outputs": [],
     "prompt_number": 56
    },
    {
     "cell_type": "code",
     "collapsed": false,
     "input": [
      "data = np.genfromtxt(\"faithful.txt\")\n",
      "X_train = scale(data)\n",
      "N = len(X_train)"
     ],
     "language": "python",
     "metadata": {},
     "outputs": [],
     "prompt_number": 80
    },
    {
     "cell_type": "code",
     "collapsed": false,
     "input": [
      "N"
     ],
     "language": "python",
     "metadata": {},
     "outputs": [
      {
       "metadata": {},
       "output_type": "pyout",
       "prompt_number": 81,
       "text": [
        "272"
       ]
      }
     ],
     "prompt_number": 81
    },
    {
     "cell_type": "code",
     "collapsed": false,
     "input": [
      "# \u30c7\u30fc\u30bf\u306f2\u3064\u306e\u30ac\u30a6\u30b9\u5206\u5e03\u306e\u6df7\u5408\u3060\u3068\u4eee\u5b9a\u3059\u308b\n",
      "# \u5171\u5206\u6563\u884c\u5217\u306e\u5f62\u72b6\u306ffull\u306a\u306e\u3067\u7279\u306b\u4eee\u5b9a\u3092\u7f6e\u304b\u306a\u3044\n",
      "n_components = 2\n",
      "gmm = mixture.GMM(n_components, covariance_type='full')"
     ],
     "language": "python",
     "metadata": {},
     "outputs": [],
     "prompt_number": 139
    },
    {
     "cell_type": "code",
     "collapsed": false,
     "input": [
      "gmm.fit(X_train)"
     ],
     "language": "python",
     "metadata": {},
     "outputs": [
      {
       "metadata": {},
       "output_type": "pyout",
       "prompt_number": 127,
       "text": [
        "GMM(covariance_type='full', init_params='wmc', min_covar=0.001,\n",
        "  n_components=2, n_init=1, n_iter=100, params='wmc', random_state=None,\n",
        "  thresh=0.01)"
       ]
      }
     ],
     "prompt_number": 127
    },
    {
     "cell_type": "code",
     "collapsed": false,
     "input": [
      "# \u63a8\u5b9a\u3057\u305f\u6df7\u5408\u4fc2\u6570\n",
      "gmm.weights_"
     ],
     "language": "python",
     "metadata": {},
     "outputs": [
      {
       "metadata": {},
       "output_type": "pyout",
       "prompt_number": 128,
       "text": [
        "array([ 0.35597816,  0.64402184])"
       ]
      }
     ],
     "prompt_number": 128
    },
    {
     "cell_type": "code",
     "collapsed": false,
     "input": [
      "# \u63a8\u5b9a\u3057\u305f\u5404\u30ac\u30a6\u30b9\u5206\u5e03\u306e\u5e73\u5747\u30d9\u30af\u30c8\u30eb\n",
      "gmm.means_"
     ],
     "language": "python",
     "metadata": {},
     "outputs": [
      {
       "metadata": {},
       "output_type": "pyout",
       "prompt_number": 129,
       "text": [
        "array([[-1.27373939, -1.20972547],\n",
        "       [ 0.70404975,  0.66866654]])"
       ]
      }
     ],
     "prompt_number": 129
    },
    {
     "cell_type": "code",
     "collapsed": false,
     "input": [
      "# \u63a8\u5b9a\u3057\u305f\u5404\u30ac\u30a6\u30b9\u5206\u5e03\u306e\u5171\u5206\u6563\u884c\u5217\n",
      "gmm.covars_"
     ],
     "language": "python",
     "metadata": {},
     "outputs": [
      {
       "metadata": {},
       "output_type": "pyout",
       "prompt_number": 130,
       "text": [
        "array([[[ 0.05445178,  0.02829092],\n",
        "        [ 0.02829092,  0.18407749]],\n",
        "\n",
        "       [[ 0.13173538,  0.06060868],\n",
        "        [ 0.06060868,  0.19652982]]])"
       ]
      }
     ],
     "prompt_number": 130
    },
    {
     "cell_type": "code",
     "collapsed": false,
     "input": [
      "# \u8a13\u7df4\u30c7\u30fc\u30bf\u3092\u63cf\u753b\n",
      "plt.plot(X_train[:, 0], X_train[:, 1], 'gx')\n",
      "\n",
      "# \u63a8\u5b9a\u3057\u305f\u30ac\u30a6\u30b9\u5206\u5e03\u3092\u63cf\u753b\n",
      "x = np.linspace(-2.5, 2.5, 1000)\n",
      "y = np.linspace(-2.5, 2.5, 1000)\n",
      "X, Y = np.meshgrid(x, y)\n",
      "\n",
      "# \u5404\u30ac\u30a6\u30b9\u5206\u5e03\u306b\u3064\u3044\u3066\n",
      "for k in range(n_components):\n",
      "    # \u5e73\u5747\u3092\u63cf\u753b\n",
      "    plt.plot(gmm.means_[k][0], gmm.means_[k][1], 'ro')\n",
      "    # \u30ac\u30a6\u30b9\u5206\u5e03\u306e\u7b49\u9ad8\u7dda\u3092\u63cf\u753b\n",
      "    Z = mlab.bivariate_normal(X, Y,\n",
      "                              np.sqrt(gmm.covars_[k][0][0]), np.sqrt(gmm.covars_[k][1][1]),\n",
      "                              gmm.means_[k][0], gmm.means_[k][1],\n",
      "                              gmm.covars_[k][0][1])\n",
      "    plt.contour(X, Y, Z)\n",
      "\n",
      "# \u30e1\u30c3\u30b7\u30e5\u4e0a\u306e\u5404\u70b9\u3067\u306e\u5bfe\u6570\u5c24\u5ea6\u306e\u7b49\u9ad8\u7dda\u3092\u63cf\u753b\n",
      "XX = np.array([X.ravel(), Y.ravel()]).T\n",
      "Z = gmm.score_samples(XX)[0]\n",
      "Z = Z.reshape(X.shape)\n",
      "CS = plt.contour(X, Y, Z)\n",
      "CB = plt.colorbar(CS)\n",
      "\n",
      "xlim(-2.5, 2.5)\n",
      "ylim(-2.5, 2.5)"
     ],
     "language": "python",
     "metadata": {},
     "outputs": [
      {
       "metadata": {},
       "output_type": "pyout",
       "prompt_number": 137,
       "text": [
        "(-2.5, 2.5)"
       ]
      },
      {
       "metadata": {},
       "output_type": "display_data",
       "png": "[encoded data removed]",
       "text": [
        "<matplotlib.figure.Figure at 0x75e0bb0>"
       ]
      }
     ],
     "prompt_number": 137
    }
   ],
   "metadata": {}
  }
 ]
}